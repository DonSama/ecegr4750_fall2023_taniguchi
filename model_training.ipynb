{
 "cells": [
  {
   "cell_type": "markdown",
   "metadata": {},
   "source": [
    "1)  Classic Model"
   ]
  },
  {
   "cell_type": "code",
   "execution_count": 1,
   "metadata": {},
   "outputs": [],
   "source": [
    "# Imports go here\n",
    "import torch\n",
    "import numpy as np\n",
    "import tqdm\n",
    "from sklearn.linear_model import LogisticRegression\n",
    "from sklearn.metrics import confusion_matrix\n",
    "from sklearn.metrics import accuracy_score\n",
    "import pandas as pd\n",
    "from dataloader import CustomDataloader\n",
    "import torch.nn as nn\n",
    "from networks import CustomCNN"
   ]
  },
  {
   "cell_type": "code",
   "execution_count": 2,
   "metadata": {},
   "outputs": [
    {
     "name": "stdout",
     "output_type": "stream",
     "text": [
      "[[205   0   0 ...   0   0   0]\n",
      " [ 99   0   0 ...   0   0   0]\n",
      " [ 39   3   0 ...   0   0   0]\n",
      " ...\n",
      " [  0   0   0 ...   0   0   0]\n",
      " [  0   0   0 ...   0   0   0]\n",
      " [  0   0   0 ...   0   0   0]]\n",
      "Accuracy on the validation set: 0.1887389287220582\n"
     ]
    }
   ],
   "source": [
    "# Load data\n",
    "data_dict = torch.load('data/ages_processed.pt')\n",
    "\n",
    "# Instantiate dataloaders\n",
    "train_dataloader = CustomDataloader(data_dict['x_train'], data_dict['y_train'], batch_size=12, buffer_size=36)\n",
    "val_dataloader = CustomDataloader(data_dict['x_val'], data_dict['y_val'], batch_size=12, buffer_size=36)\n",
    "test_dataloader = CustomDataloader(data_dict['x_test'], data_dict['y_test'], batch_size=12, buffer_size=36)\n",
    "\n",
    "# Convert the data to numpy arrays if needed\n",
    "x_train_np = train_dataloader.x.numpy()\n",
    "y_train_np = train_dataloader.y.numpy()\n",
    "\n",
    "# Ensure that y_train_np is a 1D array\n",
    "y_train_np = y_train_np.ravel()\n",
    "\n",
    "# Instantiate and train the logistic regression model\n",
    "model = LogisticRegression(max_iter=10000)\n",
    "model.fit(x_train_np, y_train_np)\n",
    "\n",
    "# Predict on the validation set\n",
    "val_preds = model.predict(val_dataloader.x.numpy())\n",
    "\n",
    "# Compute the confusion matrix and accuracy on the validation set\n",
    "mat = confusion_matrix(val_dataloader.y.numpy(), val_preds)\n",
    "accuracy = np.trace(mat) / np.sum(mat)\n",
    "print(mat)\n",
    "print(f'Accuracy on the validation set: {accuracy}')"
   ]
  },
  {
   "cell_type": "markdown",
   "metadata": {},
   "source": [
    "2. Neutral Network\n",
    "\n",
    "Now we'll attempt to train a model only on images, (this was a fail)"
   ]
  },
  {
   "cell_type": "code",
   "execution_count": 4,
   "metadata": {},
   "outputs": [],
   "source": [
    "# instantiate dataloaders\n",
    "input = 'data/dataset.pt'\n",
    "\n",
    "train_dataloader = CustomDataloader(data_dict['x_train'], data_dict['y_train'], batch_size=12, buffer_size=36)\n",
    "val_dataloader = CustomDataloader(data_dict['x_val'], data_dict['y_val'], batch_size=12, buffer_size=36)\n",
    "test_dataloader = CustomDataloader(data_dict['x_test'], data_dict['y_test'], batch_size=12, buffer_size=36)"
   ]
  },
  {
   "cell_type": "code",
   "execution_count": 6,
   "metadata": {},
   "outputs": [
    {
     "ename": "NameError",
     "evalue": "name 'Input' is not defined",
     "output_type": "error",
     "traceback": [
      "\u001b[1;31m---------------------------------------------------------------------------\u001b[0m",
      "\u001b[1;31mNameError\u001b[0m                                 Traceback (most recent call last)",
      "\u001b[1;32md:\\Users\\Ace\\Documents\\GitHub\\ECEGR4750\\taniguchi\\model_training.ipynb Cell 7\u001b[0m line \u001b[0;36m5\n\u001b[0;32m      <a href='vscode-notebook-cell:/d%3A/Users/Ace/Documents/GitHub/ECEGR4750/taniguchi/model_training.ipynb#X10sZmlsZQ%3D%3D?line=0'>1</a>\u001b[0m \u001b[39mfrom\u001b[39;00m \u001b[39mdataloader\u001b[39;00m \u001b[39mimport\u001b[39;00m CustomDataloader\n\u001b[0;32m      <a href='vscode-notebook-cell:/d%3A/Users/Ace/Documents/GitHub/ECEGR4750/taniguchi/model_training.ipynb#X10sZmlsZQ%3D%3D?line=2'>3</a>\u001b[0m model \u001b[39m=\u001b[39m CustomCNN()\n\u001b[1;32m----> <a href='vscode-notebook-cell:/d%3A/Users/Ace/Documents/GitHub/ECEGR4750/taniguchi/model_training.ipynb#X10sZmlsZQ%3D%3D?line=4'>5</a>\u001b[0m inputs \u001b[39m=\u001b[39m Input((input_shape))\n\u001b[0;32m      <a href='vscode-notebook-cell:/d%3A/Users/Ace/Documents/GitHub/ECEGR4750/taniguchi/model_training.ipynb#X10sZmlsZQ%3D%3D?line=5'>6</a>\u001b[0m \u001b[39m# convolutional layers\u001b[39;00m\n\u001b[0;32m      <a href='vscode-notebook-cell:/d%3A/Users/Ace/Documents/GitHub/ECEGR4750/taniguchi/model_training.ipynb#X10sZmlsZQ%3D%3D?line=6'>7</a>\u001b[0m conv_1 \u001b[39m=\u001b[39m Conv2D(\u001b[39m32\u001b[39m, kernel_size\u001b[39m=\u001b[39m(\u001b[39m3\u001b[39m, \u001b[39m3\u001b[39m), activation\u001b[39m=\u001b[39m\u001b[39m'\u001b[39m\u001b[39mrelu\u001b[39m\u001b[39m'\u001b[39m) (inputs)\n",
      "\u001b[1;31mNameError\u001b[0m: name 'Input' is not defined"
     ]
    }
   ],
   "source": [
    "# code taken from https://www.hackersrealm.net/post/gender-and-age-prediction-using-python, changes reverted to original\n",
    "\n",
    "model = CustomCNN()\n",
    "\n",
    "inputs = Input((input_shape))\n",
    "# convolutional layers\n",
    "conv_1 = Conv2D(32, kernel_size=(3, 3), activation='relu') (inputs)\n",
    "maxp_1 = MaxPooling2D(pool_size=(2, 2)) (conv_1)\n",
    "conv_2 = Conv2D(64, kernel_size=(3, 3), activation='relu') (maxp_1)\n",
    "maxp_2 = MaxPooling2D(pool_size=(2, 2)) (conv_2)\n",
    "conv_3 = Conv2D(128, kernel_size=(3, 3), activation='relu') (maxp_2)\n",
    "maxp_3 = MaxPooling2D(pool_size=(2, 2)) (conv_3)\n",
    "conv_4 = Conv2D(256, kernel_size=(3, 3), activation='relu') (maxp_3)\n",
    "maxp_4 = MaxPooling2D(pool_size=(2, 2)) (conv_4)\n",
    "\n",
    "flatten = Flatten() (maxp_4)\n",
    "\n",
    "# fully connected layers\n",
    "dense_1 = Dense(256, activation='relu') (flatten)\n",
    "\n",
    "dropout_1 = Dropout(0.3) (dense_1)\n",
    "\n",
    "output_1 = Dense(1, activation='relu', name='age_out') (dropout_1)\n",
    "\n",
    "model = Model(inputs=[inputs], outputs=[output_1, output_2])\n",
    "\n",
    "model.compile(loss=['binary_crossentropy', 'mae'], optimizer='adam', metrics=['accuracy'])"
   ]
  }
 ],
 "metadata": {
  "kernelspec": {
   "display_name": ".venv",
   "language": "python",
   "name": "python3"
  },
  "language_info": {
   "codemirror_mode": {
    "name": "ipython",
    "version": 3
   },
   "file_extension": ".py",
   "mimetype": "text/x-python",
   "name": "python",
   "nbconvert_exporter": "python",
   "pygments_lexer": "ipython3",
   "version": "3.11.7"
  }
 },
 "nbformat": 4,
 "nbformat_minor": 2
}
